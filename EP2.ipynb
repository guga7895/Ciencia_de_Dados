{
 "cells": [
  {
   "cell_type": "markdown",
   "id": "de4854e8-1baa-4cbf-9adf-a7ce4577156b",
   "metadata": {},
   "source": [
    "    Pré-processamento"
   ]
  },
  {
   "cell_type": "code",
   "execution_count": 2,
   "id": "466c87de-4f20-4fae-8a7e-ed8c37ef463a",
   "metadata": {},
   "outputs": [
    {
     "name": "stdout",
     "output_type": "stream",
     "text": [
      "oimporteii\n"
     ]
    }
   ],
   "source": [
    "import pandas as pd\n",
    "import openpyxl\n",
    "print(\"oimporteii\")"
   ]
  },
  {
   "cell_type": "code",
   "execution_count": 31,
   "id": "7ff82359-a659-41cc-b1e5-7b4f26edd082",
   "metadata": {},
   "outputs": [],
   "source": [
    "# Mapeamento \n",
    "\n",
    "def mapeamento(row):\n",
    "    if row['EST_MSA'] == 'New York-Newark-Jersey City, NY-NJ-PA Metro Area':\n",
    "        return '35620'\n",
    "    elif row['EST_MSA'] == 'Detroit-Warren-Dearborn, MI Metro Area':\n",
    "        return '19820'\n",
    "    elif row['EST_MSA'] == 'Los Angeles-Long Beach-Anaheim, CA Metro Area':\n",
    "        return '31080'\n",
    "    elif row['EST_MSA'] == 'Chicago-Naperville-Elgin, IL-IN-WI Metro Area':\n",
    "        return '16980'\n",
    "    elif row['EST_MSA'] == 'Dallas-Fort Worth-Arlington, TX Metro Area':\n",
    "        return '19100'\n",
    "    elif row['EST_MSA'] == 'Houston-The Woodlands-Sugar Land, TX Metro Area':\n",
    "        return '26420'\n",
    "    elif row['EST_MSA'] == 'Washington-Arlington-Alexandria, DC-VA-MD-WV Metro Area':\n",
    "        return '47900'\n",
    "    elif row['EST_MSA'] == 'Miami-Fort Lauderdale-Pompano Beach, FL Metro Area':\n",
    "        return '33100'\n",
    "    elif row['EST_MSA'] == 'Philadelphia-Camden-Wilmington, PA-NJ-DE-MD Metro Area':\n",
    "        return '37980'\n",
    "    elif row['EST_MSA'] == 'Atlanta-Sandy Springs-Alpharetta, GA Metro Area':\n",
    "        return '12060'\n",
    "    elif row['EST_MSA'] == 'Phoenix-Mesa-Chandler, AZ Metro Area':\n",
    "        return '38060'\n",
    "    elif row['EST_MSA'] == 'Boston-Cambridge-Newton, MA-NH Metro Area':\n",
    "        return '14460'\n",
    "    elif row['EST_MSA'] == 'San Francisco-Oakland-Berkeley, CA Metro Area':\n",
    "        return '41860'\n",
    "    elif row['EST_MSA'] == 'Riverside-San Bernardino-Ontario, CA Metro Area':\n",
    "        return '40140'\n",
    "    elif row['EST_MSA'] == 'Seattle-Tacoma-Bellevue, WA Metro Area':\n",
    "        return '42660'\n",
    "    else:\n",
    "        return \"\"\n",
    "\n",
    "df = pd.read_excel('dataset.xlsx', skiprows=2)\n",
    "df['EST_MSA2'] = df.apply(mapeamento,axis=1)\n",
    "df.to_excel('resultado.xlsx', index=False)\n",
    "print(\"Feito\")"
   ]
  },
  {
   "cell_type": "code",
   "execution_count": null,
   "id": "eb611189-baf1-46b2-9c20-a3dcac008599",
   "metadata": {},
   "outputs": [],
   "source": []
  }
 ],
 "metadata": {
  "kernelspec": {
   "display_name": "Python 3 (ipykernel)",
   "language": "python",
   "name": "python3"
  },
  "language_info": {
   "codemirror_mode": {
    "name": "ipython",
    "version": 3
   },
   "file_extension": ".py",
   "mimetype": "text/x-python",
   "name": "python",
   "nbconvert_exporter": "python",
   "pygments_lexer": "ipython3",
   "version": "3.13.3"
  }
 },
 "nbformat": 4,
 "nbformat_minor": 5
}
