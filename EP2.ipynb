{
  "cells": [
    {
      "cell_type": "markdown",
      "id": "de4854e8-1baa-4cbf-9adf-a7ce4577156b",
      "metadata": {
        "id": "de4854e8-1baa-4cbf-9adf-a7ce4577156b"
      },
      "source": [
        "    Pré-processamento"
      ]
    },
    {
      "cell_type": "code",
      "execution_count": 6,
      "id": "466c87de-4f20-4fae-8a7e-ed8c37ef463a",
      "metadata": {
        "id": "466c87de-4f20-4fae-8a7e-ed8c37ef463a"
      },
      "outputs": [],
      "source": [
        "import pandas as pd\n",
        "import openpyxl\n",
        "from sklearn.model_selection import train_test_split"
      ]
    },
    {
      "cell_type": "code",
      "execution_count": 7,
      "id": "7ff82359-a659-41cc-b1e5-7b4f26edd082",
      "metadata": {
        "id": "7ff82359-a659-41cc-b1e5-7b4f26edd082",
        "outputId": "8197668f-bfce-4ad0-c062-f9a2f55862b0",
        "colab": {
          "base_uri": "https://localhost:8080/"
        }
      },
      "outputs": [
        {
          "output_type": "stream",
          "name": "stdout",
          "text": [
            "Feito\n"
          ]
        }
      ],
      "source": [
        "#Pré Processamento\n",
        "\n",
        "#Mapeamento de Area Metropolitana\n",
        "def mapeamento(row):\n",
        "    if row['EST_MSA'] == 'New York-Newark-Jersey City, NY-NJ-PA Metro Area':\n",
        "        return 35620\n",
        "    elif row['EST_MSA'] == 'Detroit-Warren-Dearborn, MI Metro Area':\n",
        "        return 19820\n",
        "    elif row['EST_MSA'] == 'Los Angeles-Long Beach-Anaheim, CA Metro Area':\n",
        "        return 31080\n",
        "    elif row['EST_MSA'] == 'Chicago-Naperville-Elgin, IL-IN-WI Metro Area':\n",
        "        return 16980\n",
        "    elif row['EST_MSA'] == 'Dallas-Fort Worth-Arlington, TX Metro Area':\n",
        "        return 19100\n",
        "    elif row['EST_MSA'] == 'Houston-The Woodlands-Sugar Land, TX Metro Area':\n",
        "        return 26420\n",
        "    elif row['EST_MSA'] == 'Washington-Arlington-Alexandria, DC-VA-MD-WV Metro Area':\n",
        "        return 47900\n",
        "    elif row['EST_MSA'] == 'Miami-Fort Lauderdale-Pompano Beach, FL Metro Area':\n",
        "        return 33100\n",
        "    elif row['EST_MSA'] == 'Philadelphia-Camden-Wilmington, PA-NJ-DE-MD Metro Area':\n",
        "        return 37980\n",
        "    elif row['EST_MSA'] == 'Atlanta-Sandy Springs-Alpharetta, GA Metro Area':\n",
        "        return 12060\n",
        "    elif row['EST_MSA'] == 'Phoenix-Mesa-Chandler, AZ Metro Area':\n",
        "        return 38060\n",
        "    elif row['EST_MSA'] == 'Boston-Cambridge-Newton, MA-NH Metro Area':\n",
        "        return 14460\n",
        "    elif row['EST_MSA'] == 'San Francisco-Oakland-Berkeley, CA Metro Area':\n",
        "        return 41860\n",
        "    elif row['EST_MSA'] == 'Riverside-San Bernardino-Ontario, CA Metro Area':\n",
        "        return 40140\n",
        "    elif row['EST_MSA'] == 'Seattle-Tacoma-Bellevue, WA Metro Area':\n",
        "        return 42660\n",
        "    elif row['EST_MSA'] > 0:\n",
        "        return row['EST_MSA']\n",
        "    else:\n",
        "        return 0\n",
        "\n",
        "df = pd.read_excel('dataset.xlsx', skiprows=2)\n",
        "df['EST_MSA'] = df.apply(mapeamento,axis=1)\n",
        "\n",
        "#Remoção de mês de nascimento para padronização\n",
        "df['TBIRTH_YEAR'] = df['TBIRTH_YEAR'].astype(str).str.split(\"-\").str[0]\n",
        "\n",
        "#Mapeamento de Região\n",
        "def regionMapping(row):\n",
        "    if row['EST_ST'] in (9,23,25,33,34,36,42,44,50):\n",
        "        return 1\n",
        "    elif row['EST_ST'] in (1,5,10,11,12,13,21,22,24,28,37,40,45,47,48,51,54):\n",
        "        return 2\n",
        "    elif row['EST_ST'] in (18,17,19,20,26,27,29,31,38,39,46,55):\n",
        "        return 3\n",
        "    elif row['EST_ST'] in (2,4,6,8,15,16,30,32,35,41,49,53,56):\n",
        "        return 4\n",
        "    else:\n",
        "        return \"\"\n",
        "\n",
        "df['REGION'] = df.apply(regionMapping,axis=1)\n",
        "\n",
        "#Binarização remoto ou não\n",
        "def remoteBinary(row):\n",
        "    if row['TWDAYS_RESP'] in (1,3):\n",
        "        return 1\n",
        "    else:\n",
        "        return 0\n",
        "\n",
        "df['IS_RMT'] = df.apply(remoteBinary,axis=1)\n",
        "\n",
        "df.to_excel('resultado.xlsx', index=False)\n",
        "print(\"Feito\")"
      ]
    },
    {
      "cell_type": "markdown",
      "source": [
        "Separação do database - Validação (30%) / Análise Exploratória (10%) / Teste (60%)"
      ],
      "metadata": {
        "id": "qe7W13UoVEuy"
      },
      "id": "qe7W13UoVEuy"
    },
    {
      "cell_type": "code",
      "source": [
        "train, temp = train_test_split(df, test_size=0.4, stratify=df['IS_RMT'], random_state=42)\n",
        "test, explore = train_test_split(temp, test_size=0.25, stratify=temp['IS_RMT'], random_state=42)\n",
        "\n",
        "# Exportando excel de dados exploratórios p/ análise em Power BI\n",
        "explore.to_excel('dados_exploratorios.xlsx', index=False)"
      ],
      "metadata": {
        "id": "NzzF5K7GVaa2"
      },
      "id": "NzzF5K7GVaa2",
      "execution_count": 10,
      "outputs": []
    },
    {
      "cell_type": "code",
      "source": [],
      "metadata": {
        "id": "43t-v7QTV_Pp"
      },
      "id": "43t-v7QTV_Pp",
      "execution_count": null,
      "outputs": []
    }
  ],
  "metadata": {
    "kernelspec": {
      "display_name": "Python 3 (ipykernel)",
      "language": "python",
      "name": "python3"
    },
    "language_info": {
      "codemirror_mode": {
        "name": "ipython",
        "version": 3
      },
      "file_extension": ".py",
      "mimetype": "text/x-python",
      "name": "python",
      "nbconvert_exporter": "python",
      "pygments_lexer": "ipython3",
      "version": "3.13.4"
    },
    "colab": {
      "provenance": []
    }
  },
  "nbformat": 4,
  "nbformat_minor": 5
}