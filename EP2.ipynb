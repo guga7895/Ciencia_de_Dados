{
  "cells": [
    {
      "cell_type": "markdown",
      "id": "de4854e8-1baa-4cbf-9adf-a7ce4577156b",
      "metadata": {
        "id": "de4854e8-1baa-4cbf-9adf-a7ce4577156b"
      },
      "source": [
        "    Pré-processamento"
      ]
    },
    {
      "cell_type": "code",
      "execution_count": 1,
      "id": "466c87de-4f20-4fae-8a7e-ed8c37ef463a",
      "metadata": {
        "id": "466c87de-4f20-4fae-8a7e-ed8c37ef463a"
      },
      "outputs": [],
      "source": [
        "import pandas as pd\n",
        "import openpyxl\n",
        "from sklearn.model_selection import train_test_split\n",
        "from sklearn.neighbors import KNeighborsClassifier\n",
        "from sklearn.linear_model import LogisticRegression\n",
        "from sklearn.metrics import classification_report\n",
        "import seaborn as sns\n",
        "import matplotlib.pyplot as plt"
      ]
    },
    {
      "cell_type": "code",
      "execution_count": 3,
      "id": "7ff82359-a659-41cc-b1e5-7b4f26edd082",
      "metadata": {
        "id": "7ff82359-a659-41cc-b1e5-7b4f26edd082",
        "outputId": "ace3fe2b-c71e-4197-8563-0566efd531cb",
        "colab": {
          "base_uri": "https://localhost:8080/"
        }
      },
      "outputs": [
        {
          "output_type": "stream",
          "name": "stdout",
          "text": [
            "Feito\n"
          ]
        }
      ],
      "source": [
        "#Pré Processamento\n",
        "\n",
        "#Mapeamento de Area Metropolitana\n",
        "def mapeamento(row):\n",
        "    if row['EST_MSA'] == 'New York-Newark-Jersey City, NY-NJ-PA Metro Area':\n",
        "        return 35620\n",
        "    elif row['EST_MSA'] == 'Detroit-Warren-Dearborn, MI Metro Area':\n",
        "        return 19820\n",
        "    elif row['EST_MSA'] == 'Los Angeles-Long Beach-Anaheim, CA Metro Area':\n",
        "        return 31080\n",
        "    elif row['EST_MSA'] == 'Chicago-Naperville-Elgin, IL-IN-WI Metro Area':\n",
        "        return 16980\n",
        "    elif row['EST_MSA'] == 'Dallas-Fort Worth-Arlington, TX Metro Area':\n",
        "        return 19100\n",
        "    elif row['EST_MSA'] == 'Houston-The Woodlands-Sugar Land, TX Metro Area':\n",
        "        return 26420\n",
        "    elif row['EST_MSA'] == 'Washington-Arlington-Alexandria, DC-VA-MD-WV Metro Area':\n",
        "        return 47900\n",
        "    elif row['EST_MSA'] == 'Miami-Fort Lauderdale-Pompano Beach, FL Metro Area':\n",
        "        return 33100\n",
        "    elif row['EST_MSA'] == 'Philadelphia-Camden-Wilmington, PA-NJ-DE-MD Metro Area':\n",
        "        return 37980\n",
        "    elif row['EST_MSA'] == 'Atlanta-Sandy Springs-Alpharetta, GA Metro Area':\n",
        "        return 12060\n",
        "    elif row['EST_MSA'] == 'Phoenix-Mesa-Chandler, AZ Metro Area':\n",
        "        return 38060\n",
        "    elif row['EST_MSA'] == 'Boston-Cambridge-Newton, MA-NH Metro Area':\n",
        "        return 14460\n",
        "    elif row['EST_MSA'] == 'San Francisco-Oakland-Berkeley, CA Metro Area':\n",
        "        return 41860\n",
        "    elif row['EST_MSA'] == 'Riverside-San Bernardino-Ontario, CA Metro Area':\n",
        "        return 40140\n",
        "    elif row['EST_MSA'] == 'Seattle-Tacoma-Bellevue, WA Metro Area':\n",
        "        return 42660\n",
        "    elif row['EST_MSA'] > 0:\n",
        "        return row['EST_MSA']\n",
        "    else:\n",
        "        return 0\n",
        "\n",
        "df = pd.read_excel('dataset.xlsx', skiprows=2)\n",
        "df['EST_MSA'] = df.apply(mapeamento,axis=1)\n",
        "\n",
        "#Remoção de mês de nascimento para padronização\n",
        "df['TBIRTH_YEAR'] = df['TBIRTH_YEAR'].astype(str).str.split(\"-\").str[0]\n",
        "\n",
        "#Mapeamento de Região\n",
        "def regionMapping(row):\n",
        "    if row['EST_ST'] in (9,23,25,33,34,36,42,44,50):\n",
        "        return 1\n",
        "    elif row['EST_ST'] in (1,5,10,11,12,13,21,22,24,28,37,40,45,47,48,51,54):\n",
        "        return 2\n",
        "    elif row['EST_ST'] in (18,17,19,20,26,27,29,31,38,39,46,55):\n",
        "        return 3\n",
        "    elif row['EST_ST'] in (2,4,6,8,15,16,30,32,35,41,49,53,56):\n",
        "        return 4\n",
        "    else:\n",
        "        return \"\"\n",
        "\n",
        "df['REGION'] = df.apply(regionMapping,axis=1)\n",
        "\n",
        "#Binarização remoto ou não\n",
        "def remoteBinary(row):\n",
        "    if row['TWDAYS_RESP'] in (1,3):\n",
        "        return 1\n",
        "    else:\n",
        "        return 0\n",
        "\n",
        "df['IS_RMT'] = df.apply(remoteBinary,axis=1)\n",
        "\n",
        "df.to_excel('resultado.xlsx', index=False)\n",
        "print(\"Feito\")"
      ]
    },
    {
      "cell_type": "markdown",
      "source": [
        "Separação do database - Validação (30%) / Análise Exploratória (10%) / Teste (60%)"
      ],
      "metadata": {
        "id": "qe7W13UoVEuy"
      },
      "id": "qe7W13UoVEuy"
    },
    {
      "cell_type": "code",
      "source": [
        "#Esse que tem random_state fica com resultado fixo. Usa so quando for fazer relatorio\n",
        "#train, temp = train_test_split(df, test_size=0.4, stratify=df['IS_RMT'], random_state=42)\n",
        "train, temp = train_test_split(df, test_size=0.4, stratify=df['IS_RMT'])\n",
        "test, explore = train_test_split(temp, test_size=0.25, stratify=temp['IS_RMT'], random_state=42)\n",
        "\n",
        "# Exportando excel de dados exploratórios p/ análise em Power BI\n",
        "explore.to_excel('dados_exploratorios.xlsx', index=False)"
      ],
      "metadata": {
        "id": "NzzF5K7GVaa2"
      },
      "id": "NzzF5K7GVaa2",
      "execution_count": null,
      "outputs": []
    },
    {
      "cell_type": "code",
      "source": [
        "df_model = train[['IS_RMT', 'ANXIOUS']].copy()\n",
        "\n",
        "df_model = df_model[df_model['ANXIOUS'].isin([1, 2])]\n",
        "df_model['ANXIOUS'] = df_model['ANXIOUS'].map({1: 1, 2: 0})  # 1 = ansioso, 0 = não ansioso\n",
        "\n",
        "X = df_model[['IS_RMT']]  # Trabalho remoto: 1 ou 0\n",
        "y = df_model['ANXIOUS']\n",
        "\n",
        "\n",
        "\n",
        "# KNN\n",
        "knn = KNeighborsClassifier(n_neighbors=5)\n",
        "knn.fit(X, y)\n",
        "\n",
        "# Regressão Logística\n",
        "#logreg = LogisticRegression()\n",
        "#logreg.fit(X, y)\n",
        "\n",
        "\n",
        "\n",
        "# Usando test set já separado\n",
        "X_test = test[['IS_RMT']]\n",
        "# Filter out rows where 'ANXIOUS' is not 1 or 2 before mapping\n",
        "test_filtered = test[test['ANXIOUS'].isin([1, 2])].copy()\n",
        "y_test = test_filtered['ANXIOUS'].map({1: 1, 2: 0})  # Igual à limpeza acima\n",
        "X_test_filtered = test_filtered[['IS_RMT']]\n",
        "\n",
        "# Avaliação\n",
        "print(\"KNN:\\n\", classification_report(y_test, knn.predict(X_test_filtered)))\n",
        "#print(\"Regressão Logística:\\n\", classification_report(y_test, logreg.predict(X_test_filtered)))\n",
        "\n",
        "\n",
        "\n",
        "sns.barplot(data=df_model, x='IS_RMT', y='ANXIOUS')\n",
        "plt.title(\"Taxa de ansiedade por regime de trabalho remoto\")\n",
        "plt.xlabel(\"Trabalho remoto (1=sim, 0=não)\")\n",
        "plt.ylabel(\"Proporção com ansiedade\")\n",
        "plt.show()\n",
        "\n"
      ],
      "metadata": {
        "colab": {
          "base_uri": "https://localhost:8080/",
          "height": 929
        },
        "id": "I7-TkdXpWNn7",
        "outputId": "4d214062-506a-42d4-995e-bc4f5a541a2e"
      },
      "id": "I7-TkdXpWNn7",
      "execution_count": 24,
      "outputs": [
        {
          "output_type": "stream",
          "name": "stderr",
          "text": [
            "/usr/local/lib/python3.11/dist-packages/sklearn/metrics/_classification.py:1565: UndefinedMetricWarning: Precision is ill-defined and being set to 0.0 in labels with no predicted samples. Use `zero_division` parameter to control this behavior.\n",
            "  _warn_prf(average, modifier, f\"{metric.capitalize()} is\", len(result))\n",
            "/usr/local/lib/python3.11/dist-packages/sklearn/metrics/_classification.py:1565: UndefinedMetricWarning: Precision is ill-defined and being set to 0.0 in labels with no predicted samples. Use `zero_division` parameter to control this behavior.\n",
            "  _warn_prf(average, modifier, f\"{metric.capitalize()} is\", len(result))\n",
            "/usr/local/lib/python3.11/dist-packages/sklearn/metrics/_classification.py:1565: UndefinedMetricWarning: Precision is ill-defined and being set to 0.0 in labels with no predicted samples. Use `zero_division` parameter to control this behavior.\n",
            "  _warn_prf(average, modifier, f\"{metric.capitalize()} is\", len(result))\n"
          ]
        },
        {
          "output_type": "stream",
          "name": "stdout",
          "text": [
            "KNN:\n",
            "               precision    recall  f1-score   support\n",
            "\n",
            "           0       0.00      0.00      0.00       805\n",
            "           1       0.69      1.00      0.82      1774\n",
            "\n",
            "    accuracy                           0.69      2579\n",
            "   macro avg       0.34      0.50      0.41      2579\n",
            "weighted avg       0.47      0.69      0.56      2579\n",
            "\n"
          ]
        },
        {
          "output_type": "display_data",
          "data": {
            "text/plain": [
              "<Figure size 640x480 with 1 Axes>"
            ],
            "image/png": "[encoded data removed]"
          },
          "metadata": {}
        },
        {
          "output_type": "error",
          "ename": "NameError",
          "evalue": "name 'y_train' is not defined",
          "traceback": [
            "\u001b[0;31m---------------------------------------------------------------------------\u001b[0m",
            "\u001b[0;31mNameError\u001b[0m                                 Traceback (most recent call last)",
            "\u001b[0;32m/tmp/ipython-input-24-1687914607.py\u001b[0m in \u001b[0;36m<cell line: 0>\u001b[0;34m()\u001b[0m\n\u001b[1;32m     38\u001b[0m \u001b[0mplt\u001b[0m\u001b[0;34m.\u001b[0m\u001b[0mshow\u001b[0m\u001b[0;34m(\u001b[0m\u001b[0;34m)\u001b[0m\u001b[0;34m\u001b[0m\u001b[0;34m\u001b[0m\u001b[0m\n\u001b[1;32m     39\u001b[0m \u001b[0;34m\u001b[0m\u001b[0m\n\u001b[0;32m---> 40\u001b[0;31m \u001b[0my_train\u001b[0m\u001b[0;34m.\u001b[0m\u001b[0mvalue_counts\u001b[0m\u001b[0;34m(\u001b[0m\u001b[0mnormalize\u001b[0m\u001b[0;34m=\u001b[0m\u001b[0;32mTrue\u001b[0m\u001b[0;34m)\u001b[0m\u001b[0;34m\u001b[0m\u001b[0;34m\u001b[0m\u001b[0m\n\u001b[0m",
            "\u001b[0;31mNameError\u001b[0m: name 'y_train' is not defined"
          ]
        }
      ]
    },
    {
      "cell_type": "code",
      "source": [],
      "metadata": {
        "id": "43t-v7QTV_Pp",
        "colab": {
          "base_uri": "https://localhost:8080/"
        },
        "outputId": "1d826924-ed48-4963-91a0-875052503040"
      },
      "id": "43t-v7QTV_Pp",
      "execution_count": 7,
      "outputs": [
        {
          "output_type": "execute_result",
          "data": {
            "text/plain": [
              "Index(['SCRAM', 'EST_ST', 'EST_MSA', 'REGION', 'TBIRTH_YEAR', 'RHISPANIC',\n",
              "       'RRACE', 'EEDUC', 'MS', 'EGENID_BIRTH', 'SEXUAL_ORIENTATION_RV',\n",
              "       'THHLD_NUMPER', 'THHLD_NUMKID', 'TENROLLPUB', 'TENROLLPRV',\n",
              "       'TENROLLHMSCH', 'INCOME', 'WRKLOSSRV', 'ANYWORK', 'KINDWORK',\n",
              "       'RSNNOWRKRV', 'TWDAYS', 'TWDAYS_RESP', 'SEEING', 'HEARING', 'MOBILITY',\n",
              "       'REMEMBERING', 'SELFCARE', 'UNDERSTAND', 'ANXIOUS'],\n",
              "      dtype='object')"
            ]
          },
          "metadata": {},
          "execution_count": 7
        }
      ]
    },
    {
      "cell_type": "code",
      "source": [],
      "metadata": {
        "id": "mE8GJwe9WEXt"
      },
      "id": "mE8GJwe9WEXt",
      "execution_count": null,
      "outputs": []
    }
  ],
  "metadata": {
    "kernelspec": {
      "display_name": "Python 3 (ipykernel)",
      "language": "python",
      "name": "python3"
    },
    "language_info": {
      "codemirror_mode": {
        "name": "ipython",
        "version": 3
      },
      "file_extension": ".py",
      "mimetype": "text/x-python",
      "name": "python",
      "nbconvert_exporter": "python",
      "pygments_lexer": "ipython3",
      "version": "3.13.4"
    },
    "colab": {
      "provenance": []
    }
  },
  "nbformat": 4,
  "nbformat_minor": 5
}